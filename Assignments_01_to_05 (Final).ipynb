{
  "nbformat": 4,
  "nbformat_minor": 0,
  "metadata": {
    "colab": {
      "provenance": []
    },
    "kernelspec": {
      "name": "python3",
      "display_name": "Python 3"
    },
    "language_info": {
      "name": "python"
    }
  },
  "cells": [
    {
      "cell_type": "markdown",
      "source": [
        "WEEK 2 CLASS 3\n",
        "Python String Concatenation and Formatting Assignments"
      ],
      "metadata": {
        "id": "KYFfdMN7eKwo"
      }
    },
    {
      "cell_type": "code",
      "source": [
        "# ASSIGNMENT# 1\n",
        "# String Concatenation and Formatting\n",
        "# PGD-Batch-V,\"Data Science with Artificial Intelligence\"\n",
        "\n",
        "Name = \"Muhammad Salman\"\n",
        "Age = \"40-Years\"\n",
        "Country = \"Pakistan\"\n",
        "Mobile_No=\"+92 336 0577455\"\n",
        "print(\"My Name is \",Name,\",I am\",Age,\"Years Old,\",\"I live in Country.\",Country,\"My Contact# is :\",Mobile_No)"
      ],
      "metadata": {
        "colab": {
          "base_uri": "https://localhost:8080/"
        },
        "id": "u1__sc8RAr-E",
        "outputId": "855cc609-0219-482c-fc05-53ba7852202c"
      },
      "execution_count": null,
      "outputs": [
        {
          "output_type": "stream",
          "name": "stdout",
          "text": [
            "My Name is  Muhammad Salman ,I am 40-Years Years Old, I live in Country. Pakistan My Contact# is : +92 336 0577455\n"
          ]
        }
      ]
    },
    {
      "cell_type": "code",
      "source": [
        "# ASSIGNMENT# 2\n",
        "# String Formating using \"format\"\n",
        "# PGD-Batch-V,\"Data Science with Artificial Intelligence\"\n",
        "\n",
        "Product = \"Computer\"\n",
        "Quantity = 5\n",
        "cost_per_Unit = 10000\n",
        "total_cost = Quantity * cost_per_Unit\n",
        "print(\"total cost of five-05 computers is :Rs.\", total_cost,\"/-\")"
      ],
      "metadata": {
        "colab": {
          "base_uri": "https://localhost:8080/"
        },
        "id": "d7jQ0QBzFjPK",
        "outputId": "8c139256-d30f-4a1d-b40e-7fb4124cd198"
      },
      "execution_count": null,
      "outputs": [
        {
          "output_type": "stream",
          "name": "stdout",
          "text": [
            "total cost of five-05 computers is :Rs. 50000 /-\n"
          ]
        }
      ]
    },
    {
      "cell_type": "code",
      "source": [
        "# ASSIGNMENT# 3\n",
        "# String interpolation using \"f\"\n",
        "# PGD-Batch-V,\"Data Science with Artificial Intelligence\"\n",
        "\n",
        "temperature = \"Weather\"\n",
        "Degree = \"34°C\"\n",
        "City = \"Karachi\"\n",
        "temp = f\"Today karachi temerature is {temperature} and its is an good {Degree} for picnic\"\n",
        "print(temp)"
      ],
      "metadata": {
        "colab": {
          "base_uri": "https://localhost:8080/"
        },
        "id": "nByqpCHz2dj_",
        "outputId": "62ca9efe-41d0-4bcb-8f79-aa1ab0da18c9"
      },
      "execution_count": null,
      "outputs": [
        {
          "output_type": "stream",
          "name": "stdout",
          "text": [
            "Today karachi temerature is Weather and its is an good 34°C for picnic\n"
          ]
        }
      ]
    },
    {
      "cell_type": "code",
      "source": [
        "# ASSIGNMENT# 4\n",
        "# String Formatting using \"%()\"\n",
        "# PGD-Batch-V,\"Data Science with Artificial Intelligence\"\n",
        "\n",
        "first_name = \"Muhammad\"\n",
        "last_name = \"Salman\"\n",
        "birth_year =int(input(\"Enter your birth Year :\"))\n",
        "current_year =int(input(\"Enter Current Year : \"))\n",
        "age = current_year - birth_year\n",
        "f_string = \"My Name is %s %s. I am %d years old.\" % (first_name,last_name,age)\n",
        "print (f_string)\n",
        "print (age)"
      ],
      "metadata": {
        "colab": {
          "base_uri": "https://localhost:8080/"
        },
        "id": "KtjsDMKUBBbX",
        "outputId": "de9c0131-6cc9-4def-d133-f0f3cdf60529"
      },
      "execution_count": null,
      "outputs": [
        {
          "output_type": "stream",
          "name": "stdout",
          "text": [
            "Enter your birth Year :1982\n",
            "Enter Current Year : 2023\n",
            "My Name is Muhammad Salman. I am 41 years old.\n",
            "41\n"
          ]
        }
      ]
    },
    {
      "cell_type": "code",
      "source": [
        "# ASSIGNMENT# 5\n",
        "# Combining Formatting Methods\n",
        "# PGD-Batch-V,\"Data Science with Artificial Intelligence\"\n",
        "\n",
        "product = \"~~~ Keyboard ~~~ \"\n",
        "discount = 25\n",
        "original_price = 500\n",
        "payable_amount = original_price * (1 - discount / 100)\n",
        "descriptive_string = \"Product: {}\\nOriginal Price: {}\\nDiscount: {}%\\nPayable Amount : Rs. {:.2f}\".format(\n",
        "    product, original_price, discount, payable_amount)\n",
        "print(descriptive_string)"
      ],
      "metadata": {
        "colab": {
          "base_uri": "https://localhost:8080/"
        },
        "id": "LChEun5NKJqU",
        "outputId": "0ad76282-c844-461c-f3c2-bd7000e446c1"
      },
      "execution_count": null,
      "outputs": [
        {
          "output_type": "stream",
          "name": "stdout",
          "text": [
            "Product: ~~~ Keyboard ~~~ \n",
            "Original Price: 500\n",
            "Discount: 25%\n",
            "Payable Amount : Rs. 375.00\n"
          ]
        }
      ]
    }
  ]
}